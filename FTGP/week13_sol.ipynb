{
 "cells": [
  {
   "cell_type": "markdown",
   "metadata": {},
   "source": [
    "# FTGP Week 1: Cryptographic primitives\n",
    "\n",
    "This week, we will see the basic cryptographic prihitives (hash functions, digital signatures, encryption/decryption) that are needed in blockchain systehs. We will then use these next week to build our own blockchain!\n",
    "\n",
    "These primitives are not only useful when building a blockchain, but are also extremely useful when building financial applications.\n",
    "\n",
    "We will be using Python, but you might need to install the following packages: `hashlib, web3py, ecdsa` and `eciespy` (https://docs.python.org/3/library/hashlib.html, https://web3py.readthedocs.io/en/latest/index.html, https://github.com/tlsfuzzer/python-ecdsa, https://github.com/ecies/py).\n",
    "\n",
    "\n",
    "### Question 1: Hashing\n",
    "\n",
    "Get the hash value of `\"Blockchain\"` using SHA2-256, SHA2-512, SHA3-256, and SHA3-512. \n",
    "\n",
    "**Hint:** These hashing functions are available in the `hashlib` package."
   ]
  },
  {
   "cell_type": "code",
   "execution_count": 1,
   "metadata": {},
   "outputs": [
    {
     "name": "stdout",
     "output_type": "stream",
     "text": [
      "625da44e4eaf58d61cf048d168aa6f5e492dea166d8bb54ec06c30de07db57e1\n",
      "625da44e4eaf58d61cf048d168aa6f5e492dea166d8bb54ec06c30de07db57e1\n",
      "3a45809488fe624d1f8d5c6120079fb3e04b0bb04af938c380af64128b45ab0fb28c9e280590f5aaa78c8e419dbd6de04c150dd5b7238dbff93d8e4f1f1ff4de\n",
      "94074fd5892e84da500a78e4c02ff986c38815ad4063441a1caad310e89cf709\n",
      "57fb5951e6be7075d3b848c38b08deb6a88ab88619a0d1805301e1d1056e68cc76b026360b8050ec59dcfe3f8932b27c1235e393cf340d0008328b224a32ccf2\n"
     ]
    }
   ],
   "source": [
    "import hashlib\n",
    "\n",
    "# encode a string to bytes, or just use b\"Blockchain\"\n",
    "s = \"Blockchain\"\n",
    "b = str.encode(s)\n",
    "\n",
    "h1 = hashlib.sha256(b).hexdigest()\n",
    "print(h1)\n",
    "h1 = hashlib.sha256(b\"Blockchain\").hexdigest()\n",
    "print(h1)\n",
    "h2 = hashlib.sha512(b\"Blockchain\").hexdigest()\n",
    "print(h2)\n",
    "h3 = hashlib.sha3_256(b\"Blockchain\").hexdigest()\n",
    "print(h3)\n",
    "h4 = hashlib.sha3_512(b\"Blockchain\").hexdigest()\n",
    "print(h4)"
   ]
  },
  {
   "cell_type": "markdown",
   "metadata": {},
   "source": [
    "Now let's do the same using Keccak-256. Keccak-256 is the primary hash function used in the Ethereum blockchain, and so will be our hash function of choice for the rest of this unit. \n",
    "\n",
    "**Note:** Ethereum uses a non-standard format, so the easiest way to get the same results in Python is to use the Keccak-256 function as provided by the `web3py` library."
   ]
  },
  {
   "cell_type": "code",
   "execution_count": 2,
   "metadata": {},
   "outputs": [
    {
     "name": "stdout",
     "output_type": "stream",
     "text": [
      "0xfa8871e962875d078135f1c5b27b0f184ab6f4dff8641dd81032226ea0ae9e8c\n"
     ]
    }
   ],
   "source": [
    "from web3 import Web3\n",
    "\n",
    "h = Web3.keccak(b\"Blockchain\")\n",
    "print(h.hex())"
   ]
  },
  {
   "cell_type": "markdown",
   "metadata": {},
   "source": [
    "### Question 2: Collisions\n",
    "\n",
    "Define a hash function `H(n, msg)` that returns the first `n` bytes of the hash of the variable `msg`.\n",
    "\n",
    "**Hint:** The method `str.encode()` might be useful."
   ]
  },
  {
   "cell_type": "code",
   "execution_count": 3,
   "metadata": {},
   "outputs": [
    {
     "name": "stdout",
     "output_type": "stream",
     "text": [
      "b'\\xfa\\x88q\\xe9'\n",
      "0xfa8871e9\n"
     ]
    }
   ],
   "source": [
    "def H(n, msg):\n",
    "    m1 = Web3.keccak(msg.encode())\n",
    "    return m1[:n]\n",
    "\n",
    "print(H(4, \"Blockchain\")) # get the bytes\n",
    "print(H(4, \"Blockchain\").hex()) # or hex value"
   ]
  },
  {
   "cell_type": "markdown",
   "metadata": {},
   "source": [
    "Find a collision of `H(1, msg)`, `H(2, msg)`, `H(3, msg)`, `H(4, msg)`, and `H(5, msg)`. Count the number of hashes you perform before finding a collision.\n",
    "\n",
    "**Hint:** Using a `set` data structure might be a good idea."
   ]
  },
  {
   "cell_type": "code",
   "execution_count": 4,
   "metadata": {},
   "outputs": [
    {
     "name": "stdout",
     "output_type": "stream",
     "text": [
      "Collision! 8 0xe4\n",
      "Collision! 68 0xcc14\n",
      "Collision! 6228 0x507072\n",
      "Collision! 15121 0x25721fb3\n",
      "Collision! 2084034 0xa2bd901b8c\n"
     ]
    }
   ],
   "source": [
    "def find_collisions(length):\n",
    "    hash_set = set()\n",
    "    number = 0\n",
    "    hash = H(length, str(number))\n",
    "    while (not hash in hash_set):\n",
    "        hash_set.add(hash)\n",
    "        number += 1\n",
    "        hash = H(length, str(number))\n",
    "    print(\"Collision!\", number, hash.hex())\n",
    "\n",
    "for i in range(1, 6):\n",
    "    find_collisions(i)"
   ]
  },
  {
   "cell_type": "markdown",
   "metadata": {},
   "source": [
    "For `H(1, msg)`, `H(2, msg)`, `H(3, msg)` find a preimage of the corresponding hashes: `b\"\\x00\"`, `b\"\\x00\"*2` and `b\"\\x00\"*3`. Essentially, this is the same as finding a bitstring that when hashed produces a hash that starts with a certain number of zeros. Count the number of hashes you perform before finding each preimage."
   ]
  },
  {
   "cell_type": "code",
   "execution_count": 5,
   "metadata": {},
   "outputs": [
    {
     "name": "stdout",
     "output_type": "stream",
     "text": [
      "Found! 54 b'\\x00'\n",
      "Found! 114066 b'\\x00\\x00'\n",
      "Found! 4075895 b'\\x00\\x00\\x00'\n"
     ]
    }
   ],
   "source": [
    "def find_preimage(length, preimage):\n",
    "    number = 0\n",
    "    hash = H(length, str(number))\n",
    "    while (not hash == preimage):\n",
    "        number += 1\n",
    "        hash = H(length, str(number))\n",
    "    print(\"Found!\", number, hash)\n",
    "\n",
    "for i in range(1, 4):\n",
    "    find_preimage(i, b\"\\x00\"*i)"
   ]
  },
  {
   "cell_type": "markdown",
   "metadata": {},
   "source": [
    "As you can see, finding a bitstring that results in a hash with a certain property (e.g. a number of leading zeros) can be very difficult. This is the basis of the proof-of-work (PoW) algorithm that's essential for blockchains. We will explore this further next week.\n",
    "\n",
    "### Question 3: Signatures\n",
    "\n",
    "Generate key pairs for ECDSA and sign the string `\"Blockchain\"` using this signature scheme with the generated key. Then verify the obtained signature.\n",
    "\n",
    "**Hint:** These functions are available in the `ecdsa` package."
   ]
  },
  {
   "cell_type": "code",
   "execution_count": 6,
   "metadata": {},
   "outputs": [
    {
     "name": "stdout",
     "output_type": "stream",
     "text": [
      "13164be37bab928a6ecd7387dd9c2c9882ebe93415117bbedf4b60d8311effc6c50551edf2f9225a8fde34f55c7e40a0\n",
      "b'Blockchain' is a good signature\n",
      "b'Bitcoin' is a bad signature\n"
     ]
    }
   ],
   "source": [
    "from ecdsa import SigningKey\n",
    "\n",
    "sk = SigningKey.generate()\n",
    "vk = sk.verifying_key\n",
    "signature = sk.sign(b\"Blockchain\")\n",
    "print(signature.hex())\n",
    "\n",
    "for s in [b\"Blockchain\", b\"Bitcoin\"]:\n",
    "    try:\n",
    "        vk.verify(signature, s)\n",
    "        print(s, \"is a good signature\")\n",
    "    except:\n",
    "        print(s, \"is a bad signature\")"
   ]
  },
  {
   "cell_type": "markdown",
   "metadata": {},
   "source": [
    "### Question 4: Encryption/Decryption\n",
    "\n",
    "Generate key pairs for ECIES and encrypt the string `\"Blockchain\"` to obtain a ciphertext. Then decrypt the obtained ciphertext.\n",
    "\n",
    "**Hint:** These functions are available in the `eciespy` package."
   ]
  },
  {
   "cell_type": "code",
   "execution_count": 7,
   "metadata": {},
   "outputs": [
    {
     "name": "stdout",
     "output_type": "stream",
     "text": [
      "045b4b568f71d22bd819b33343fa56a21bd1a3e070a155d10909eaf22874b0582b602e3c46636ac72f0f03f736631661eb6a574d5da75dc2e931fa813a593520d55de2c23c741ed6372b763c42ce6594c671c30b1c10adaff690d2ca08fb1b97a4428c3f6afe7d9c3d7145\n",
      "b'Blockchain'\n"
     ]
    }
   ],
   "source": [
    "from ecies.utils import generate_eth_key, generate_key\n",
    "from ecies import encrypt, decrypt\n",
    "\n",
    "key = generate_eth_key()\n",
    "sk = key.to_hex()\n",
    "pk = key.public_key.to_hex()\n",
    "\n",
    "en = encrypt(pk, b\"Blockchain\")\n",
    "print(en.hex())\n",
    "de = decrypt(sk, en)\n",
    "print(de)"
   ]
  },
  {
   "attachments": {},
   "cell_type": "markdown",
   "metadata": {},
   "source": [
    "### Bonus Question 5: Merkle Tree\n",
    "\n",
    "Merkle trees are a really important data structure that is fundamental for blockchain systems. You can find more details about Merkle trees here: https://en.wikipedia.org/wiki/Merkle_tree\n",
    "\n",
    "Implement your own Merkle tree. Make sure you distinguish leaf nodes from non-leaf node. The code below might be helpful.\n",
    "\n",
    "**Note:** this is hard, treat is as a software challenge to improve your programming skills rather than an essential exercise you need to complete. If you are struggling with the implementation, then it might be worthwhile to study the properties and uses of Merkle trees instead. \n",
    "\n",
    "**Note 2:** this will be useful later on, so make sure you build it in a way that can be adapted and reused in the future."
   ]
  },
  {
   "cell_type": "code",
   "execution_count": 8,
   "metadata": {},
   "outputs": [],
   "source": [
    "import hashlib\n",
    "import math\n",
    "\n",
    "class MerkleTree():\n",
    "\n",
    "    def __init__(self):\n",
    "        self.leaves = [] # entries are assumed to be bytes\n",
    "        self.hashes = []\n",
    "        self.root = None\n",
    "\n",
    "    def add(self, entry):\n",
    "        # Add entries to tree\n",
    "\n",
    "        self.leaves += [entry]\n",
    "        self.hashes += [hashlib.sha256(entry).digest()]\n",
    "\n",
    "    def build(self):\n",
    "        # Build tree computing new root\n",
    "\n",
    "        level = math.ceil(math.log(len(self.hashes), 2)) # next power of two\n",
    "        if 2**level != len(self.hashes): # if not complete tree\n",
    "            for i in range(2**level - len(self.hashes)): # add empty leaves so that the tree is complete\n",
    "                self.add(b\"\")\n",
    "\n",
    "        for i in range((2**level)-1): # calculate the rest of the nodes\n",
    "            self.hashes += [hashlib.sha256(self.hashes[2*i] + self.hashes[2*i+1]).digest()]\n",
    "        \n",
    "        self.root = self.hashes[-1] # set root\n",
    "\n",
    "    def get_proof(self, entry):\n",
    "        # Get membership proof for a given entry\n",
    "\n",
    "        if entry not in self.leaves:\n",
    "            return None\n",
    "        else:\n",
    "            degree = math.log(len(self.leaves), 2)\n",
    "            index = self.leaves.index(entry)\n",
    "            proof = []\n",
    "            while self.hashes[index] != self.root:\n",
    "                if index % 2 == 0:\n",
    "                    proof += [(self.hashes[index+1], 'r')] # add right sibling\n",
    "                else:\n",
    "                    proof += [(self.hashes[index-1], 'l')] # add left sibling\n",
    "                index = int(2**degree + math.floor(index/2)) # go to parent\n",
    "            return proof\n",
    "\n",
    "    def get_root(self):\n",
    "        # Return the current root\n",
    "        \n",
    "        if self.root == None:\n",
    "            return b\"0\"\n",
    "        else:\n",
    "            return self.root"
   ]
  },
  {
   "cell_type": "markdown",
   "metadata": {},
   "source": [
    "Verify that your implementation produces the correct root."
   ]
  },
  {
   "cell_type": "code",
   "execution_count": 9,
   "metadata": {},
   "outputs": [
    {
     "name": "stdout",
     "output_type": "stream",
     "text": [
      "c478fead0c89b79540638f844c8819d9a4281763af9272c7f3968776b6052345\n",
      "c478fead0c89b79540638f844c8819d9a4281763af9272c7f3968776b6052345\n"
     ]
    }
   ],
   "source": [
    "m = MerkleTree()\n",
    "m.add(b\"0\")\n",
    "m.add(b\"1\")\n",
    "m.add(b\"2\")\n",
    "m.add(b\"3\")\n",
    "m.build()\n",
    "print(m.get_root().hex())\n",
    "\n",
    "ze = hashlib.sha256(b\"0\").digest()\n",
    "on = hashlib.sha256(b\"1\").digest()\n",
    "tw = hashlib.sha256(b\"2\").digest()\n",
    "th = hashlib.sha256(b\"3\").digest()\n",
    "zeon = hashlib.sha256(ze + on).digest()\n",
    "twth = hashlib.sha256(tw + th).digest()\n",
    "root = hashlib.sha256(zeon + twth).digest()\n",
    "print(root.hex())\n",
    "\n",
    "assert m.get_root().hex() == root.hex() # check that the root is correct"
   ]
  },
  {
   "cell_type": "markdown",
   "metadata": {},
   "source": [
    "Write a function that verifies proofs. Verify that the proofs produced by your implementation are correct"
   ]
  },
  {
   "cell_type": "code",
   "execution_count": 10,
   "metadata": {},
   "outputs": [],
   "source": [
    "def verifyProof(entry, proof, root):\n",
    "    hash = hashlib.sha256(entry).digest()\n",
    "    for p in proof:\n",
    "        if p[1] == 'r':\n",
    "            hash = hashlib.sha256(hash + p[0]).digest()\n",
    "        else:\n",
    "            hash = hashlib.sha256(p[0] + hash).digest()\n",
    "    return (hash == root)\n",
    "\n",
    "for d in [b\"0\", b\"1\", b\"2\", b\"3\"]:\n",
    "    assert verifyProof(d, m.get_proof(d), m.get_root()) # check that the proof is correct"
   ]
  }
 ],
 "metadata": {
  "kernelspec": {
   "display_name": "Python 3.10.2 64-bit",
   "language": "python",
   "name": "python3"
  },
  "language_info": {
   "codemirror_mode": {
    "name": "ipython",
    "version": 3
   },
   "file_extension": ".py",
   "mimetype": "text/x-python",
   "name": "python",
   "nbconvert_exporter": "python",
   "pygments_lexer": "ipython3",
   "version": "3.10.2 (tags/v3.10.2:a58ebcc, Jan 17 2022, 14:12:15) [MSC v.1929 64 bit (AMD64)]"
  },
  "orig_nbformat": 4,
  "vscode": {
   "interpreter": {
    "hash": "369f2c481f4da34e4445cda3fffd2e751bd1c4d706f27375911949ba6bb62e1c"
   }
  }
 },
 "nbformat": 4,
 "nbformat_minor": 2
}
