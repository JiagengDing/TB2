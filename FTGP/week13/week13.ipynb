{
 "cells": [
  {
   "cell_type": "markdown",
   "metadata": {},
   "source": [
    "# FTGP Week 1: Cryptographic primitives\n",
    "\n",
    "This week, we will see the basic cryptographic primitives (hash functions, digital signatures, encryption/decryption) that are needed in blockchain systems. We will then use these next week to build our own blockchain!\n",
    "\n",
    "These primitives are not only useful when building a blockchain, but are also extremely useful when building financial applications.\n",
    "\n",
    "We will be using Python, but you might need to install the following packages: `hashlib, web3py, ecdsa` and `eciespy` (https://docs.python.org/3/library/hashlib.html, https://web3py.readthedocs.io/en/latest/web3.main.html#encoding-and-decoding-helpers, https://github.com/tlsfuzzer/python-ecdsa, https://github.com/ecies/py).\n",
    "\n",
    "\n",
    "### Question 1: Hashing\n",
    "\n",
    "Get the hash value of `\"Blockchain\"` using SHA2-256, SHA2-512, SHA3-256, and SHA3-512. \n",
    "\n",
    "**Hint:** These hashing functions are available in the `hashlib` package."
   ]
  },
  {
   "cell_type": "code",
   "execution_count": 1,
   "metadata": {},
   "outputs": [
    {
     "name": "stdout",
     "output_type": "stream",
     "text": [
      "Sha2_256 is  625da44e4eaf58d61cf048d168aa6f5e492dea166d8bb54ec06c30de07db57e1\n",
      "Sha2_512 is  3a45809488fe624d1f8d5c6120079fb3e04b0bb04af938c380af64128b45ab0fb28c9e280590f5aaa78c8e419dbd6de04c150dd5b7238dbff93d8e4f1f1ff4de\n",
      "Sha3_256 is  94074fd5892e84da500a78e4c02ff986c38815ad4063441a1caad310e89cf709\n",
      "Sha3_512 is  57fb5951e6be7075d3b848c38b08deb6a88ab88619a0d1805301e1d1056e68cc76b026360b8050ec59dcfe3f8932b27c1235e393cf340d0008328b224a32ccf2\n"
     ]
    }
   ],
   "source": [
    "import binascii\n",
    "import hashlib\n",
    "\n",
    "print(\"Sha2_256 is \", hashlib.sha256(b\"Blockchain\").hexdigest())\n",
    "print(\"Sha2_512 is \", hashlib.sha512(b\"Blockchain\").hexdigest())\n",
    "print(\"Sha3_256 is \", hashlib.sha3_256(b\"Blockchain\").hexdigest())\n",
    "print(\"Sha3_512 is \", hashlib.sha3_512(b\"Blockchain\").hexdigest())"
   ]
  },
  {
   "cell_type": "markdown",
   "metadata": {},
   "source": [
    "Now let's do the same using Keccak-256. Keccak-256 is the primary hash function used in the Ethereum blockchain, and so will be our hash function of choice for the rest of this unit. \n",
    "\n",
    "**Note:** Ethereum uses a non-standard format, so the easiest way to get the same results in Python is to use the Keccak-256 function as provided by the `web3py` library."
   ]
  },
  {
   "cell_type": "code",
   "execution_count": 2,
   "metadata": {},
   "outputs": [
    {
     "data": {
      "text/plain": [
       "HexBytes('0xfa8871e962875d078135f1c5b27b0f184ab6f4dff8641dd81032226ea0ae9e8c')"
      ]
     },
     "execution_count": 2,
     "metadata": {},
     "output_type": "execute_result"
    }
   ],
   "source": [
    "from web3 import Web3\n",
    "\n",
    "Web3.keccak(text=\"Blockchain\")"
   ]
  },
  {
   "cell_type": "markdown",
   "metadata": {},
   "source": [
    "### Question 2: Collisions\n",
    "\n",
    "Define a hash function `H(n, msg)` that returns the first `n` bytes of the hash of the variable `msg`.\n",
    "\n",
    "**Hint:** The method `str.encode()` might be useful."
   ]
  },
  {
   "cell_type": "code",
   "execution_count": 3,
   "metadata": {},
   "outputs": [
    {
     "data": {
      "text/plain": [
       "'6a2'"
      ]
     },
     "execution_count": 3,
     "metadata": {},
     "output_type": "execute_result"
    }
   ],
   "source": [
    "def H(n, msg):\n",
    "    msg = msg.encode()\n",
    "    hash = hashlib.sha3_256(msg).hexdigest()\n",
    "    return hash[:n]\n",
    "\n",
    "\n",
    "def H2(n, msg):\n",
    "    hash = Web3.keccak(text=msg)\n",
    "    return hash[:n]\n",
    "\n",
    "\n",
    "H(3, \"helloaa\")"
   ]
  },
  {
   "cell_type": "markdown",
   "metadata": {},
   "source": [
    "Find a collision of `H(1, msg)`, `H(2, msg)`, `H(3, msg)`, `H(4, msg)`, and `H(5, msg)`. Count the number of hashes you perform before finding a collision.\n",
    "\n",
    "**Hint:** Using a `set` data structure might be a good idea."
   ]
  },
  {
   "cell_type": "code",
   "execution_count": 4,
   "metadata": {},
   "outputs": [
    {
     "name": "stdout",
     "output_type": "stream",
     "text": [
      "4\n",
      "7\n",
      "2681\n",
      "37882\n",
      "54853\n"
     ]
    }
   ],
   "source": [
    "import random\n",
    "import string\n",
    "\n",
    "def find_collision(n):\n",
    "\n",
    "    num = 0\n",
    "    begin = str(string.digits)\n",
    "    hash_set = set()\n",
    "    hash = H(n, begin)\n",
    "\n",
    "    while (hash not in hash_set):\n",
    "        hash_set.add(H(n,str(num+1)))\n",
    "        num += 1\n",
    "    return len(hash_set)\n",
    "\n",
    "\n",
    "for i in range(1, 6):\n",
    "    print(find_collision(i))"
   ]
  },
  {
   "cell_type": "markdown",
   "metadata": {},
   "source": [
    "For `H(1, msg)`, `H(2, msg)`, `H(3, msg)` find a preimage of the corresponding hashes: `b\"\\x00\"`, `b\"\\x00\"*2` and `b\"\\x00\"*3`. Essentially, this is the same as finding a bitstring that when hashed produces a hash that starts with a certain number of zeros. Count the number of hashes you perform before finding each preimage."
   ]
  },
  {
   "cell_type": "code",
   "execution_count": null,
   "metadata": {},
   "outputs": [],
   "source": [
    "def find_preimage(n, pre):\n",
    "\n",
    "    num = 0\n",
    "    begin = str(string.digits)\n",
    "    hash_set = set()\n",
    "    hash = H2(n, begin)\n",
    "\n",
    "    while (pre not in hash_set):\n",
    "        hash_set.add(H2(n, str(num+1)))\n",
    "        num += 1\n",
    "    return len(hash_set)\n",
    "\n",
    "\n",
    "for i in range(1, 4):\n",
    "    print(find_preimage(i, i*'\\x00'))"
   ]
  },
  {
   "cell_type": "markdown",
   "metadata": {},
   "source": [
    "As you can see, finding a bitstring that results in a hash with a certain property (e.g. a number of leading zeros) can be very difficult. This is the basis of the proof-of-work (PoW) algorithm that's essential for blockchains. We will explore this further next week.\n",
    "\n",
    "### Question 3: Signatures\n",
    "\n",
    "Generate key pairs for ECDSA and sign the string `\"Blockchain\"` using this signature scheme with the generated key. Then verify the obtained signature.\n",
    "\n",
    "**Hint:** These functions are available in the `ecdsa` package."
   ]
  },
  {
   "cell_type": "code",
   "execution_count": null,
   "metadata": {},
   "outputs": [],
   "source": []
  },
  {
   "cell_type": "markdown",
   "metadata": {},
   "source": [
    "### Question 4: Encryption/Decryption\n",
    "\n",
    "Generate key pairs for ECIES and encrypt the string `\"Blockchain\"` to obtain a ciphertext. Then decrypt the obtained ciphertext.\n",
    "\n",
    "**Hint:** These functions are available in the `eciespy` package."
   ]
  },
  {
   "cell_type": "code",
   "execution_count": null,
   "metadata": {},
   "outputs": [],
   "source": []
  },
  {
   "cell_type": "markdown",
   "metadata": {},
   "source": [
    "### Bonus Question 5: Merkle Tree\n",
    "\n",
    "Merkle trees are a really important data structure that is fundamental for blockchain systems. You can find more details about Merkle trees here: https://en.wikipedia.org/wiki/Merkle_tree\n",
    "\n",
    "Implement your own Merkle tree. Make sure you distinguish leaf nodes from non-leaf node. The code below might be helpful.\n",
    "\n",
    "**Note:** this is hard, treat is as a software challenge to improve your programming skills rather than an essential exercise you need to complete. If you are struggling with the implementation, then it might be worthwhile to study the properties and uses of Merkle trees instead. \n",
    "\n",
    "**Note 2:** this will be useful later on, so make sure you build it in a way that can be adapted and reused in the future."
   ]
  },
  {
   "cell_type": "code",
   "execution_count": null,
   "metadata": {},
   "outputs": [],
   "source": []
  },
  {
   "cell_type": "markdown",
   "metadata": {},
   "source": [
    "Verify that your implementation produces the correct root."
   ]
  },
  {
   "cell_type": "code",
   "execution_count": null,
   "metadata": {},
   "outputs": [],
   "source": []
  },
  {
   "cell_type": "markdown",
   "metadata": {},
   "source": [
    "Write a function that verifies proofs. Verify that the proofs produced by your implementation are correct"
   ]
  },
  {
   "cell_type": "code",
   "execution_count": null,
   "metadata": {},
   "outputs": [],
   "source": []
  }
 ],
 "metadata": {
  "kernelspec": {
   "display_name": "Python 3",
   "language": "python",
   "name": "python3"
  },
  "language_info": {
   "codemirror_mode": {
    "name": "ipython",
    "version": 3
   },
   "file_extension": ".py",
   "mimetype": "text/x-python",
   "name": "python",
   "nbconvert_exporter": "python",
   "pygments_lexer": "ipython3",
   "version": "3.10.9"
  },
  "vscode": {
   "interpreter": {
    "hash": "e7370f93d1d0cde622a1f8e1c04877d8463912d04d973331ad4851f04de6915a"
   }
  }
 },
 "nbformat": 4,
 "nbformat_minor": 4
}
